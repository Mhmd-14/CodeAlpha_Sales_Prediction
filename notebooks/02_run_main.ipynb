{
 "cells": [
  {
   "cell_type": "code",
   "execution_count": 1,
   "id": "040cbbb1",
   "metadata": {},
   "outputs": [],
   "source": [
    "import os\n",
    "import sys\n",
    "sys.path.append(os.path.abspath(\"C:/Users/ADMIN/Desktop/Data Science/Code Alpha Internship/Task_4_Sales_Prediction/\"))\n",
    "from src.run_pipeline import run_pipeline"
   ]
  },
  {
   "cell_type": "code",
   "execution_count": 2,
   "id": "84f31e4b",
   "metadata": {},
   "outputs": [
    {
     "name": "stdout",
     "output_type": "stream",
     "text": [
      "🚀 [PIPELINE] Starting preprocessing...\n",
      "[INFO] Preprocessed data saved to: ../data/processed\\processed.csv\n",
      "🤖 [PIPELINE] Starting training...\n",
      "[RESULT] RMSE: 1.6894\n",
      "[RESULT] MAPE Score: 0.1486\n",
      "✅ Model saved at ../models/model.pkl\n",
      "✅ [PIPELINE] Pipeline completed successfully.\n"
     ]
    }
   ],
   "source": [
    "run_pipeline('../data/raw/Advertising.csv')"
   ]
  }
 ],
 "metadata": {
  "kernelspec": {
   "display_name": "venv",
   "language": "python",
   "name": "python3"
  },
  "language_info": {
   "codemirror_mode": {
    "name": "ipython",
    "version": 3
   },
   "file_extension": ".py",
   "mimetype": "text/x-python",
   "name": "python",
   "nbconvert_exporter": "python",
   "pygments_lexer": "ipython3",
   "version": "3.12.3"
  }
 },
 "nbformat": 4,
 "nbformat_minor": 5
}
